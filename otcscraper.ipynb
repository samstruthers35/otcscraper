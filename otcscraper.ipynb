{
 "cells": [
  {
   "cell_type": "code",
   "execution_count": 3,
   "metadata": {},
   "outputs": [],
   "source": [
    "from bs4 import BeautifulSoup\n",
    "import requests\n",
    "import pandas as pd\n",
    "from selenium import webdriver\n",
    "import time"
   ]
  },
  {
   "cell_type": "code",
   "execution_count": 4,
   "metadata": {},
   "outputs": [
    {
     "name": "stdout",
     "output_type": "stream",
     "text": [
      "/usr/local/bin/chromedriver\r\n"
     ]
    }
   ],
   "source": [
    "!which chromedriver"
   ]
  },
  {
   "cell_type": "code",
   "execution_count": 5,
   "metadata": {},
   "outputs": [
    {
     "name": "stderr",
     "output_type": "stream",
     "text": [
      "[WDM] - Cache is valid for [29/05/2020]\n",
      "[WDM] - Looking for [chromedriver 83.0.4103.39 mac64] driver in cache \n",
      "[WDM] - Driver found in cache [/Users/samstruthers/.wdm/drivers/chromedriver/83.0.4103.39/mac64/chromedriver]\n"
     ]
    },
    {
     "name": "stdout",
     "output_type": "stream",
     "text": [
      " \n"
     ]
    }
   ],
   "source": [
    "from webdriver_manager.chrome import ChromeDriverManager\n",
    "driver = webdriver.Chrome(ChromeDriverManager().install())"
   ]
  },
  {
   "cell_type": "code",
   "execution_count": 6,
   "metadata": {},
   "outputs": [],
   "source": [
    "#use this function to grab links so you can find players to pull contract history\n",
    "def get_position_links(position):\n",
    "    url = f\"https://overthecap.com/contract-history/{str.lower(position).replace(' ' ,'-')}/\"\n",
    "    response = requests.get(url)\n",
    "    time.sleep(2)\n",
    "    soup = BeautifulSoup(response.text, 'html.parser')\n",
    "    players_links =[]\n",
    "    player = []\n",
    "    for a in soup.select(\"a[href*=player]\"):\n",
    "        players_links.append(a['href'])\n",
    "        player.append(a.getText())\n",
    "    position_df = pd.DataFrame({\"Player Link\": players_links,\n",
    "                   \"Player Name\": player})\n",
    "    position_df = position_df.drop_duplicates()\n",
    "    position_df = position_df.reset_index()\n",
    "    position_df = position_df.drop(columns = 'index')\n",
    "    return(position_df)"
   ]
  },
  {
   "cell_type": "code",
   "execution_count": null,
   "metadata": {},
   "outputs": [],
   "source": [
    "#example\n",
    "get_position_links(\"Running Back\")"
   ]
  },
  {
   "cell_type": "code",
   "execution_count": 7,
   "metadata": {},
   "outputs": [],
   "source": [
    "#use this function to get contract history for specific player\n",
    "def get_contract_history(player_link, player_name):\n",
    "    contracts = []\n",
    "    players_contracts = []\n",
    "    links = player_link\n",
    "    name = player_name\n",
    "    year = []\n",
    "    base_salary = []\n",
    "    cap_number = []\n",
    "    cappercent = []\n",
    "    experience = []\n",
    "    years_experience_counter = 0\n",
    "    url = f\"https://overthecap.com/{player_link}\"\n",
    "    player_response = requests.get(url)\n",
    "    player_soup = BeautifulSoup(player_response.text, 'html.parser')\n",
    "    table = player_soup.find('table',class_=\"contract salary-cap-history player-new\")\n",
    "    headers = [th.getText() for th in table.findAll('tr', limit=2)[0].findAll('th')]\n",
    "    rows = table.findAll('tr')[1:]\n",
    "    stats = [[td.getText() for td in rows[i].findAll('td')]\n",
    "            for i in range(len(rows))]\n",
    "    for x in range(len(stats)):\n",
    "        if stats[x][0] != \"Total\":\n",
    "            players_contracts.append(name)\n",
    "            contracts.append(stats[x])\n",
    "            years_experience_counter = years_experience_counter + 1\n",
    "            experience.append(years_experience_counter)\n",
    "        else:\n",
    "            continue\n",
    "        for y in range(len(headers)):               \n",
    "            if ((stats[x][0] != \"Total\")&(headers[y] == \"Year\")):\n",
    "                year.append(stats[x][y])\n",
    "            elif (stats[x][0] != \"Total\")&(headers[y] == \"CapNumber\"):\n",
    "                cap_number.append(stats[x][y])\n",
    "            elif (stats[x][0] != \"Total\")&(headers[y] == \"Base Salary\"):\n",
    "                base_salary.append(stats[x][y])\n",
    "            elif (stats[x][0] != \"Total\")&(headers[y] == \"Cap %\"):\n",
    "                cappercent.append(stats[x][y])  \n",
    "            else:\n",
    "                continue\n",
    "    years_experience_counter = 0\n",
    "    df = pd.DataFrame({\"Player\":players_contracts,\n",
    "                   'Year':year,\n",
    "                   \"Base Salary\":base_salary,\n",
    "              \"Cap Number\":cap_number,\n",
    "             \"% of Cap\":cappercent,\n",
    "              \"Years of Experience\":experience\n",
    "             })\n",
    "    return(df)"
   ]
  },
  {
   "cell_type": "code",
   "execution_count": null,
   "metadata": {},
   "outputs": [],
   "source": [
    "#example\n",
    "get_contract_history(\"/player/barry-sanders/7729/\",\"Barry Sanders\")"
   ]
  },
  {
   "cell_type": "code",
   "execution_count": 8,
   "metadata": {},
   "outputs": [],
   "source": [
    "#use this function to get a teams current salary cap information\n",
    "def get_team_contracts(team):\n",
    "    url = f\"https://overthecap.com/salary-cap/{str.lower(team).replace(' ','-')}/\"\n",
    "    response = requests.get(url)\n",
    "    time.sleep(3)\n",
    "    soup = BeautifulSoup(response.text, 'html.parser')\n",
    "    table = soup.find('table',class_=\"salary-cap-table contracted-players\")\n",
    "    table\n",
    "    headers = [th.getText() for th in table.findAll('tr', limit=2)[0].findAll('th')][:11]\n",
    "    rows = table.findAll('tr')[2:]\n",
    "    stats = [[td.getText() for td in rows[i].findAll('td')][:11]\n",
    "            for i in range(len(rows))]\n",
    "    df = pd.DataFrame(stats, columns = headers)\n",
    "    return(df)"
   ]
  },
  {
   "cell_type": "code",
   "execution_count": null,
   "metadata": {},
   "outputs": [],
   "source": [
    "#example\n",
    "get_team_contracts(\"Los Angeles Chargers\")"
   ]
  },
  {
   "cell_type": "code",
   "execution_count": 9,
   "metadata": {},
   "outputs": [],
   "source": [
    "#use this function to see most current contracts and what would be save if cut/traded\n",
    "def get_transaction_table():\n",
    "    url = \"http://overthecap.com/transactions-table/\"\n",
    "    response = requests.get(url)\n",
    "    time.sleep(3)\n",
    "    soup = BeautifulSoup(response.text, 'html.parser')\n",
    "    table = soup.find('table',class_=\"transactions-table sortable\")\n",
    "    table\n",
    "    headers = [th.getText() for th in table.findAll('tr', limit=2)[0].findAll('th')]\n",
    "    rows = table.findAll('tr')[1:]\n",
    "    stats = [[td.getText() for td in rows[i].findAll('td')]\n",
    "            for i in range(len(rows))]\n",
    "    df = pd.DataFrame(stats, columns = headers)\n",
    "    return(df)"
   ]
  },
  {
   "cell_type": "code",
   "execution_count": null,
   "metadata": {},
   "outputs": [],
   "source": [
    "#example\n",
    "get_transaction_table()"
   ]
  }
 ],
 "metadata": {
  "kernelspec": {
   "display_name": "Python 3",
   "language": "python",
   "name": "python3"
  },
  "language_info": {
   "codemirror_mode": {
    "name": "ipython",
    "version": 3
   },
   "file_extension": ".py",
   "mimetype": "text/x-python",
   "name": "python",
   "nbconvert_exporter": "python",
   "pygments_lexer": "ipython3",
   "version": "3.6.9"
  }
 },
 "nbformat": 4,
 "nbformat_minor": 4
}
